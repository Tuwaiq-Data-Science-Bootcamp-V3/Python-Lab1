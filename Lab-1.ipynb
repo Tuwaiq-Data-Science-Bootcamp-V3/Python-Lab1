{
 "cells": [
  {
   "cell_type": "code",
   "execution_count": 9,
   "id": "434fb737",
   "metadata": {},
   "outputs": [
    {
     "name": "stdout",
     "output_type": "stream",
     "text": [
      "My Favourite Season is:  Spring Season\n"
     ]
    }
   ],
   "source": [
    "MyFavouriteSeason = 'Spring Season'\n",
    "print(\"My Favourite Season is: \",MyFavouriteSeason)"
   ]
  },
  {
   "cell_type": "code",
   "execution_count": 5,
   "id": "44b92e28",
   "metadata": {},
   "outputs": [
    {
     "name": "stdout",
     "output_type": "stream",
     "text": [
      "3 <class 'int'>\n",
      "3.3 <class 'float'>\n"
     ]
    }
   ],
   "source": [
    "x = 3\n",
    "print(x, type(x))\n",
    "y = 3.3\n",
    "print(y, type(y))"
   ]
  },
  {
   "cell_type": "code",
   "execution_count": 6,
   "id": "5bdf544b",
   "metadata": {},
   "outputs": [
    {
     "data": {
      "text/plain": [
       "'New Test'"
      ]
     },
     "execution_count": 6,
     "metadata": {},
     "output_type": "execute_result"
    }
   ],
   "source": [
    "z = \"Test\"\n",
    "z = \"New Test\"\n",
    "z"
   ]
  },
  {
   "cell_type": "code",
   "execution_count": 8,
   "id": "3d97e94d",
   "metadata": {},
   "outputs": [
    {
     "name": "stdout",
     "output_type": "stream",
     "text": [
      "Hanadi Salman\n"
     ]
    }
   ],
   "source": [
    "FName , LName = \"Hanadi\" , \"Salman\"\n",
    "print (FName, LName)"
   ]
  },
  {
   "cell_type": "code",
   "execution_count": null,
   "id": "e63c26da",
   "metadata": {},
   "outputs": [],
   "source": []
  }
 ],
 "metadata": {
  "kernelspec": {
   "display_name": "Python 3 (ipykernel)",
   "language": "python",
   "name": "python3"
  },
  "language_info": {
   "codemirror_mode": {
    "name": "ipython",
    "version": 3
   },
   "file_extension": ".py",
   "mimetype": "text/x-python",
   "name": "python",
   "nbconvert_exporter": "python",
   "pygments_lexer": "ipython3",
   "version": "3.10.9"
  }
 },
 "nbformat": 4,
 "nbformat_minor": 5
}
