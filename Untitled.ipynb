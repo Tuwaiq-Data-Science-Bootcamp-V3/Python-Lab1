{
 "cells": [
  {
   "cell_type": "markdown",
   "id": "deb0ca3c",
   "metadata": {},
   "source": [
    "## LabPython1"
   ]
  },
  {
   "cell_type": "code",
   "execution_count": null,
   "id": "b6bd2b16",
   "metadata": {},
   "outputs": [],
   "source": [
    "Myfav = (\"Winter\")\n",
    "x = 2\n",
    "y = 2.0\n",
    "a , b , c = 3\n",
    "d , e , f = 10 , 20 , 30"
   ]
  }
 ],
 "metadata": {
  "kernelspec": {
   "display_name": "Python 3 (ipykernel)",
   "language": "python",
   "name": "python3"
  },
  "language_info": {
   "codemirror_mode": {
    "name": "ipython",
    "version": 3
   },
   "file_extension": ".py",
   "mimetype": "text/x-python",
   "name": "python",
   "nbconvert_exporter": "python",
   "pygments_lexer": "ipython3",
   "version": "3.9.13"
  }
 },
 "nbformat": 4,
 "nbformat_minor": 5
}
