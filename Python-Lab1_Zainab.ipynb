{
 "cells": [
  {
   "cell_type": "markdown",
   "id": "47240be5",
   "metadata": {},
   "source": [
    "#  Zainab Melaibari"
   ]
  },
  {
   "cell_type": "markdown",
   "id": "8e613cae",
   "metadata": {},
   "source": [
    "# Python-Lab1\n",
    "\n",
    "## Variables\n",
    "- Define a variable that has a value of your favourite season.\n",
    "- Define “x“ variable has an integer value and variable “y” has a float value.\n",
    "- Assign One Value to Multiple Variables.\n",
    "- Assign Many Values to Multiple Variables.\n"
   ]
  },
  {
   "cell_type": "code",
   "execution_count": 8,
   "id": "9a83c227",
   "metadata": {},
   "outputs": [],
   "source": [
    "# Define a variable that has a value of my favourite season.\n",
    "favSeason = \"autumn\""
   ]
  },
  {
   "cell_type": "code",
   "execution_count": 9,
   "id": "df80802f",
   "metadata": {},
   "outputs": [],
   "source": [
    "# Define “x“ variable has an integer value.\n",
    "x = 5"
   ]
  },
  {
   "cell_type": "code",
   "execution_count": 10,
   "id": "061a0020",
   "metadata": {},
   "outputs": [],
   "source": [
    "# Define variable “y” has a float value.\n",
    "y = 5.5"
   ]
  },
  {
   "cell_type": "code",
   "execution_count": 11,
   "id": "320904e5",
   "metadata": {},
   "outputs": [],
   "source": [
    "# Assign One Value to Multiple Variables.\n",
    "digit1 = digit2 = digit3 = 3"
   ]
  },
  {
   "cell_type": "code",
   "execution_count": 12,
   "id": "68775b3b",
   "metadata": {},
   "outputs": [],
   "source": [
    "# Assign Many Values to Multiple Variables.\n",
    "one, two, three = 1, 2, 3"
   ]
  }
 ],
 "metadata": {
  "kernelspec": {
   "display_name": "Python 3 (ipykernel)",
   "language": "python",
   "name": "python3"
  },
  "language_info": {
   "codemirror_mode": {
    "name": "ipython",
    "version": 3
   },
   "file_extension": ".py",
   "mimetype": "text/x-python",
   "name": "python",
   "nbconvert_exporter": "python",
   "pygments_lexer": "ipython3",
   "version": "3.9.12"
  }
 },
 "nbformat": 4,
 "nbformat_minor": 5
}
