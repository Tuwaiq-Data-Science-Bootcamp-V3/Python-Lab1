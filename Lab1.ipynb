{
 "cells": [
  {
   "cell_type": "code",
   "execution_count": 1,
   "id": "459bd1a7",
   "metadata": {},
   "outputs": [],
   "source": [
    "# Define a variable with your favorite season:\n",
    "favorite_season = \"winter\"\n",
    "\n",
    "# Define variables x and y with different data types:\n",
    "x = 10\n",
    "y = 3.14\n",
    "\n",
    "# Assign one value to multiple variables:\n",
    "a = b = c = 100\n",
    "\n",
    "# Assign many values to multiple variables:\n",
    "d, e, f = 1, 2, 3"
   ]
  },
  {
   "cell_type": "code",
   "execution_count": null,
   "id": "01d41010",
   "metadata": {},
   "outputs": [],
   "source": []
  }
 ],
 "metadata": {
  "kernelspec": {
   "display_name": "Python 3 (ipykernel)",
   "language": "python",
   "name": "python3"
  },
  "language_info": {
   "codemirror_mode": {
    "name": "ipython",
    "version": 3
   },
   "file_extension": ".py",
   "mimetype": "text/x-python",
   "name": "python",
   "nbconvert_exporter": "python",
   "pygments_lexer": "ipython3",
   "version": "3.10.9"
  }
 },
 "nbformat": 4,
 "nbformat_minor": 5
}
