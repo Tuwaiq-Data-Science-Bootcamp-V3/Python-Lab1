{
 "cells": [
  {
   "cell_type": "markdown",
   "id": "5567280f",
   "metadata": {},
   "source": [
    "# Python-Lab1"
   ]
  },
  {
   "cell_type": "code",
   "execution_count": 1,
   "id": "9d157e66",
   "metadata": {},
   "outputs": [],
   "source": [
    "season = \"Summer\""
   ]
  },
  {
   "cell_type": "code",
   "execution_count": 3,
   "id": "803da9c1",
   "metadata": {},
   "outputs": [],
   "source": [
    "x =4 \n",
    "y=3.14"
   ]
  },
  {
   "cell_type": "code",
   "execution_count": 4,
   "id": "98f9c210",
   "metadata": {},
   "outputs": [],
   "source": [
    "one = two = three = \"Apple\""
   ]
  },
  {
   "cell_type": "code",
   "execution_count": 5,
   "id": "9c172c55",
   "metadata": {},
   "outputs": [],
   "source": [
    "x, y, z = \"fahad\", \"khaled\", \"Ali\"\n"
   ]
  },
  {
   "cell_type": "code",
   "execution_count": null,
   "id": "731ee0aa",
   "metadata": {},
   "outputs": [],
   "source": []
  }
 ],
 "metadata": {
  "kernelspec": {
   "display_name": "Python 3 (ipykernel)",
   "language": "python",
   "name": "python3"
  },
  "language_info": {
   "codemirror_mode": {
    "name": "ipython",
    "version": 3
   },
   "file_extension": ".py",
   "mimetype": "text/x-python",
   "name": "python",
   "nbconvert_exporter": "python",
   "pygments_lexer": "ipython3",
   "version": "3.10.9"
  }
 },
 "nbformat": 4,
 "nbformat_minor": 5
}
